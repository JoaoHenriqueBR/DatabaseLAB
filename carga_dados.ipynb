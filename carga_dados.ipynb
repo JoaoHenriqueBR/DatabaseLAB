{
 "cells": [
  {
   "cell_type": "markdown",
   "id": "73a03bca",
   "metadata": {},
   "source": []
  },
  {
   "cell_type": "code",
   "execution_count": null,
   "id": "5b078ceb",
   "metadata": {},
   "outputs": [],
   "source": [
    "import pyodbc\n",
    "import pandas as pd"
   ]
  },
  {
   "cell_type": "code",
   "execution_count": null,
   "id": "aeb10185",
   "metadata": {},
   "outputs": [],
   "source": [
    "pyodbc.drivers()"
   ]
  },
  {
   "cell_type": "code",
   "execution_count": null,
   "id": "39ec30f8",
   "metadata": {},
   "outputs": [],
   "source": [
    "conn = pyodbc.connect(\n",
    "    Driver = '{ODBC Driver 18 for SQL Server}',\n",
    "    Server = 'localhost',\n",
    "    Database = 'DbFilme',\n",
    "    Encrypt = 'Yes',\n",
    "    TrustServerCertificate = 'Yes',\n",
    "    UID = 'SA',\n",
    "    PWD = 'Pg1024_JH', # Sua senha do Banco de Dados Local no SQL Server\n",
    "    timeout=60\n",
    ")\n",
    "\n",
    "cursor = conn.cursor()"
   ]
  },
  {
   "cell_type": "code",
   "execution_count": null,
   "id": "475b5b08",
   "metadata": {},
   "outputs": [],
   "source": [
    "df = pd.read_csv(\"arquivos/consolidated/movies_consolidado.csv\")"
   ]
  },
  {
   "cell_type": "code",
   "execution_count": null,
   "id": "e08a150e",
   "metadata": {},
   "outputs": [],
   "source": [
    "df.head()"
   ]
  },
  {
   "cell_type": "code",
   "execution_count": null,
   "id": "c2110bcc",
   "metadata": {},
   "outputs": [],
   "source": [
    "df.columns"
   ]
  },
  {
   "cell_type": "code",
   "execution_count": null,
   "id": "7aef1e42",
   "metadata": {},
   "outputs": [],
   "source": [
    "import time\n",
    "\n",
    "block_size = 500 # quantidade de insert pra não explodir isso ai\n",
    "\n",
    "# Monte de coisa pra driblar erro\n",
    "def safe_int(value):\n",
    "    try:\n",
    "        if pd.isna(value):\n",
    "            return None\n",
    "        return int(value)\n",
    "    except:\n",
    "        return None\n",
    "\n",
    "def safe_float(value):\n",
    "    try:\n",
    "        if pd.isna(value):\n",
    "            return None\n",
    "        return float(value)\n",
    "    except:\n",
    "        return None\n",
    "\n",
    "def safe_str(value):\n",
    "    if pd.isna(value):\n",
    "        return None\n",
    "    return str(value)\n",
    "\n",
    "def safe_date(value):\n",
    "    if pd.isna(value):\n",
    "        return None\n",
    "    if value == '0000-00-00':\n",
    "        return None\n",
    "    return value"
   ]
  },
  {
   "cell_type": "code",
   "execution_count": null,
   "id": "2e48d047",
   "metadata": {},
   "outputs": [],
   "source": [
    "c = 0\n",
    "\n",
    "# A parte que insere os gêneros e os filmes\n",
    "for row in df.itertuples():\n",
    "    try:\n",
    "        # Adiciona os gêneros se não existirem\n",
    "        genres = [g.strip() for g in safe_str(row.genres).split(',')]\n",
    "        for genre in genres:\n",
    "            cursor.execute('SELECT COUNT(*) FROM genres WHERE genre_name = ?', genre)\n",
    "            genre_exists = cursor.fetchone()[0] > 0\n",
    "            if not genre_exists:\n",
    "                cursor.execute('INSERT INTO genres (genre_name) VALUES (?)', genre)\n",
    "\n",
    "        # Verifica se o filme já existe na tabela movies\n",
    "        cursor.execute('SELECT COUNT(*) FROM movies WHERE movie_id = ?', row.id)\n",
    "        movie_exists = cursor.fetchone()[0] > 0\n",
    "\n",
    "        if not movie_exists:\n",
    "            cursor.execute('''\n",
    "                INSERT INTO movies (\n",
    "                    movie_id, title, release_date, description,\n",
    "                    duration, tagline, metascore, metascore_count,\n",
    "                    userscore, userscore_count, userscore_sentiment,\n",
    "                    production_companies, director, writer, top_cast)\n",
    "                VALUES (?, ?, ?, ?, ?, ?, ?, ?, ?, ?, ?, ?, ?, ?, ?)\n",
    "            ''', (\n",
    "                row.id,\n",
    "                safe_str(row.title),\n",
    "                safe_date(row.releaseDate),\n",
    "                safe_str(row.description),\n",
    "                safe_int(row.duration),\n",
    "                safe_str(row.tagline),\n",
    "                safe_int(row.metascore),\n",
    "                safe_int(row.metascore_count),\n",
    "                safe_int(row.userscore),\n",
    "                safe_int(row.userscore_count),\n",
    "                safe_str(row.userscore_sentiment),\n",
    "                safe_str(row.production_companies),\n",
    "                safe_str(row.director),\n",
    "                safe_str(row.writer),\n",
    "                safe_str(row.top_cast)\n",
    "            ))\n",
    "\n",
    "        # Para cada gênero relacionado ao filme, insere na tabela movie_genres\n",
    "        cursor.execute('SELECT genres_id FROM genres WHERE genre_name = ?', genre)\n",
    "        genres_id = cursor.fetchone()[0]\n",
    "\n",
    "        cursor.execute('''\n",
    "            INSERT INTO movie_genres (movie_id, genre_id)\n",
    "            VALUES (?, ?)\n",
    "        ''', (row.id, genres_id))\n",
    "        c += 1\n",
    "        if c % block_size == 0:\n",
    "            conn.commit()\n",
    "            time.sleep(0.1)  # pausa para aliviar o servidor\n",
    "\n",
    "    except Exception as e:\n",
    "        print(f\"Erro ao inserir linha: {row}\\n→ {e}\")\n",
    "\n",
    "# Commit final\n",
    "conn.commit()\n",
    "print('Finalizado!')\n"
   ]
  },
  {
   "cell_type": "code",
   "execution_count": null,
   "id": "fd8fc05d",
   "metadata": {},
   "outputs": [],
   "source": [
    "df = pd.read_csv(\"arquivos/consolidated/movies_reviews_consolidado.csv\")"
   ]
  },
  {
   "cell_type": "code",
   "execution_count": null,
   "id": "a1d9feda",
   "metadata": {},
   "outputs": [],
   "source": [
    "df.head()"
   ]
  },
  {
   "cell_type": "code",
   "execution_count": null,
   "id": "10b6d947",
   "metadata": {},
   "outputs": [],
   "source": [
    "df.columns"
   ]
  },
  {
   "cell_type": "code",
   "execution_count": null,
   "id": "1c7827a1",
   "metadata": {},
   "outputs": [],
   "source": [
    "for row in df.itertuples():\n",
    "    try:\n",
    "        cursor.execute('''\n",
    "            INSERT INTO review (quote, score, publication_date, author, publication_name, review_type)\n",
    "            VALUES(?,?,?,?,?,?)\n",
    "        ''',(\n",
    "            row.quote,\n",
    "            row.score,\n",
    "            row.date,\n",
    "            row.author,\n",
    "            row.publicationName,\n",
    "            row.review_type\n",
    "        ))\n",
    "    except Exception as e:\n",
    "        print(\"Erro ao inserir linha:\", row)\n",
    "        print(e)\n",
    "\n",
    "conn.commit()"
   ]
  }
 ],
 "metadata": {
  "kernelspec": {
   "display_name": "Python 3",
   "language": "python",
   "name": "python3"
  },
  "language_info": {
   "codemirror_mode": {
    "name": "ipython",
    "version": 3
   },
   "file_extension": ".py",
   "mimetype": "text/x-python",
   "name": "python",
   "nbconvert_exporter": "python",
   "pygments_lexer": "ipython3",
   "version": "3.10.12"
  }
 },
 "nbformat": 4,
 "nbformat_minor": 5
}
